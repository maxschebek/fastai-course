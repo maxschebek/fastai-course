{
 "cells": [
  {
   "cell_type": "markdown",
   "metadata": {},
   "source": [
    "# Recurrent neural network for name classification\n",
    "Closely following this PyTorch [tutorial]( https://pytorch.org/tutorials/intermediate/char_rnn_classification_tutorial.html) and https://www.youtube.com/watch?v=WEV61GmmPrk.\n"
   ]
  },
  {
   "cell_type": "code",
   "execution_count": 1,
   "metadata": {},
   "outputs": [],
   "source": [
    "import torch \n",
    "import torch.nn as nn\n",
    "import matplotlib.pyplot as plt\n",
    "\n",
    "from utils import ALL_LETTERS, N_LETTERS\n",
    "from utils import load_data, letter_to_tensor, letter_to_index, line_to_tensor, random_training_example\n",
    "\n"
   ]
  },
  {
   "cell_type": "markdown",
   "metadata": {},
   "source": [
    "## Model Class"
   ]
  },
  {
   "cell_type": "code",
   "execution_count": 2,
   "metadata": {},
   "outputs": [],
   "source": [
    "class RNN(nn.Module):\n",
    "    def __init__(self, input_size, hidden_size, output_size):\n",
    "        super(RNN, self).__init__()\n",
    "        self.hidden_size = hidden_size\n",
    "        self.combined_to_hidden = nn.Linear(input_size + hidden_size, \n",
    "                                            hidden_size)\n",
    "        self.combined_to_output = nn.Linear(input_size + hidden_size, \n",
    "                                            output_size)\n",
    "        self.softmax = nn.LogSoftmax(dim=1)\n",
    "    \n",
    "    def forward(self, input, hidden):\n",
    "        combined = torch.cat((input, hidden), dim=1)\n",
    "        hidden = self.combined_to_hidden(combined)\n",
    "        output = self.combined_to_output(combined)\n",
    "        output = self.softmax(output) \n",
    "        return output, hidden\n",
    "\n",
    "    def init_hidden(self):\n",
    "        return torch.zeros(1, self.hidden_size)\n",
    "\n",
    "\n",
    "\n"
   ]
  },
  {
   "cell_type": "markdown",
   "metadata": {},
   "source": [
    "## Load data"
   ]
  },
  {
   "cell_type": "code",
   "execution_count": 3,
   "metadata": {},
   "outputs": [
    {
     "data": {
      "text/plain": [
       "dict_keys(['Vietnamese', 'German', 'English', 'Czech', 'Chinese', 'French', 'Russian', 'Spanish', 'Italian', 'Japanese', 'Portuguese', 'Irish', 'Korean', 'Dutch', 'Greek', 'Scottish', 'Arabic', 'Polish'])"
      ]
     },
     "execution_count": 3,
     "metadata": {},
     "output_type": "execute_result"
    }
   ],
   "source": [
    "from utils import load_data\n",
    "category_lines, all_categories = load_data()\n",
    "n_categories = len(all_categories)\n",
    "category_lines.keys()\n",
    "\n"
   ]
  },
  {
   "cell_type": "markdown",
   "metadata": {},
   "source": [
    "## Build model"
   ]
  },
  {
   "cell_type": "code",
   "execution_count": 4,
   "metadata": {},
   "outputs": [],
   "source": [
    "hidden_size = 128\n",
    "rnn = RNN(N_LETTERS, hidden_size, n_categories)"
   ]
  },
  {
   "cell_type": "code",
   "execution_count": 5,
   "metadata": {},
   "outputs": [],
   "source": [
    "# Returns the category with the highest predicted value\n",
    "def category_from_output(output):\n",
    "    category_idx = torch.argmax(output).item()\n",
    "    return all_categories[category_idx]"
   ]
  },
  {
   "cell_type": "code",
   "execution_count": 6,
   "metadata": {},
   "outputs": [
    {
     "name": "stdout",
     "output_type": "stream",
     "text": [
      "torch.Size([1, 18])\n",
      "torch.Size([1, 128])\n"
     ]
    },
    {
     "data": {
      "text/plain": [
       "'Spanish'"
      ]
     },
     "execution_count": 6,
     "metadata": {},
     "output_type": "execute_result"
    }
   ],
   "source": [
    "# Run one step of the network for a single letter\n",
    "input = letter_to_tensor('A')\n",
    "hidden = torch.zeros(1, hidden_size)\n",
    "\n",
    "output, next_hidden = rnn(input, hidden)\n",
    "print(output.size())\n",
    "print(next_hidden.size())\n",
    "category_from_output(output)"
   ]
  },
  {
   "cell_type": "code",
   "execution_count": 7,
   "metadata": {},
   "outputs": [
    {
     "name": "stdout",
     "output_type": "stream",
     "text": [
      "torch.Size([1, 18])\n",
      "torch.Size([1, 128])\n"
     ]
    },
    {
     "data": {
      "text/plain": [
       "'Spanish'"
      ]
     },
     "execution_count": 7,
     "metadata": {},
     "output_type": "execute_result"
    }
   ],
   "source": [
    "# Run one step of the network for a whole word\n",
    "input = line_to_tensor('Albert')\n",
    "hidden = rnn.init_hidden()\n",
    "\n",
    "output, next_hidden = rnn(input[0], hidden)\n",
    "print(output.size())\n",
    "print(next_hidden.size())\n",
    "category_from_output(output)"
   ]
  },
  {
   "cell_type": "markdown",
   "metadata": {},
   "source": [
    "### Training the network"
   ]
  },
  {
   "cell_type": "code",
   "execution_count": 8,
   "metadata": {},
   "outputs": [],
   "source": [
    "criterion = nn.NLLLoss()\n",
    "learning_rate = 0.005\n",
    "optimizer = torch.optim.SGD(rnn.parameters(), learning_rate)"
   ]
  },
  {
   "cell_type": "code",
   "execution_count": 9,
   "metadata": {},
   "outputs": [],
   "source": [
    "# One training step\n",
    "def train(line_tensor, category_tensor):\n",
    "    hidden = rnn.init_hidden()\n",
    "\n",
    "    for i in range(line_tensor.size()[0]):\n",
    "        output, hidden = rnn(line_tensor[i], hidden)\n",
    "\n",
    "    loss = criterion(output, category_tensor)\n",
    "    optimizer.zero_grad()\n",
    "    loss.backward()\n",
    "    optimizer.step()\n",
    "\n",
    "    return output, loss.item()\n",
    "\n",
    "\n",
    "    "
   ]
  },
  {
   "cell_type": "code",
   "execution_count": 10,
   "metadata": {},
   "outputs": [
    {
     "name": "stdout",
     "output_type": "stream",
     "text": [
      "1000 1.0 Loss: 2.9231 Current prediction: Souza / Japanese WRONG (Portuguese)\n",
      "2000 2.0 Loss: 2.8666 Current prediction: Sun / Greek WRONG (Korean)\n",
      "3000 3.0 Loss: 2.7737 Current prediction: Coupe / Greek WRONG (French)\n",
      "4000 4.0 Loss: 2.7836 Current prediction: Lian / Irish WRONG (Chinese)\n",
      "5000 5.0 Loss: 2.7384 Current prediction: Esteves / Greek WRONG (Portuguese)\n",
      "6000 6.0 Loss: 2.6388 Current prediction: Schubert / Scottish WRONG (German)\n",
      "7000 7.000000000000001 Loss: 2.5188 Current prediction: Jacques / Portuguese WRONG (French)\n",
      "8000 8.0 Loss: 2.3471 Current prediction: Momotani / Italian WRONG (Japanese)\n",
      "9000 9.0 Loss: 2.0439 Current prediction: Castell / Spanish CORRECT\n",
      "10000 10.0 Loss: 2.9193 Current prediction: Peaper / German WRONG (English)\n",
      "11000 11.0 Loss: 2.3223 Current prediction: Plourde / English WRONG (French)\n",
      "12000 12.0 Loss: 1.3270 Current prediction: Ahn / Korean CORRECT\n",
      "13000 13.0 Loss: 1.6284 Current prediction: Nader / Arabic CORRECT\n",
      "14000 14.000000000000002 Loss: 1.3318 Current prediction: Guerra / Portuguese CORRECT\n",
      "15000 15.0 Loss: 1.4208 Current prediction: Gronchi / Italian CORRECT\n",
      "16000 16.0 Loss: 2.2420 Current prediction: Murphy / Portuguese WRONG (Scottish)\n",
      "17000 17.0 Loss: 1.1257 Current prediction: Pantelas / Greek CORRECT\n",
      "18000 18.0 Loss: 2.0572 Current prediction: Abbaticchio / Russian WRONG (Italian)\n",
      "19000 19.0 Loss: 2.1856 Current prediction: Adrov / Portuguese WRONG (Russian)\n",
      "20000 20.0 Loss: 2.0303 Current prediction: Travieso / Italian WRONG (Spanish)\n",
      "21000 21.0 Loss: 2.2828 Current prediction: Plamondon / Scottish WRONG (French)\n",
      "22000 22.0 Loss: 1.6505 Current prediction: Escarcega / Spanish CORRECT\n",
      "23000 23.0 Loss: 1.5173 Current prediction: Sai / Chinese WRONG (Vietnamese)\n",
      "24000 24.0 Loss: 1.1198 Current prediction: Puerta / Spanish CORRECT\n",
      "25000 25.0 Loss: 0.2706 Current prediction: Rogashkov / Russian CORRECT\n",
      "26000 26.0 Loss: 1.9791 Current prediction: Kratschmar / Russian WRONG (Czech)\n",
      "27000 27.0 Loss: 1.6670 Current prediction: Ritchie / Scottish CORRECT\n",
      "28000 28.000000000000004 Loss: 0.2004 Current prediction: Takishida / Japanese CORRECT\n",
      "29000 28.999999999999996 Loss: 1.2969 Current prediction: Antwerpen / Dutch CORRECT\n",
      "30000 30.0 Loss: 2.5664 Current prediction: Finnegan / Irish WRONG (English)\n",
      "31000 31.0 Loss: 0.8006 Current prediction: Kolovos / Greek CORRECT\n",
      "32000 32.0 Loss: 1.7079 Current prediction: O'Keefe / French WRONG (Irish)\n",
      "33000 33.0 Loss: 0.1030 Current prediction: Kunisada / Japanese CORRECT\n",
      "34000 34.0 Loss: 0.3185 Current prediction: Ichigawa / Japanese CORRECT\n",
      "35000 35.0 Loss: 1.8232 Current prediction: Haik / Arabic CORRECT\n",
      "36000 36.0 Loss: 0.3341 Current prediction: Poniros / Greek CORRECT\n",
      "37000 37.0 Loss: 2.1781 Current prediction: Avery / French WRONG (English)\n",
      "38000 38.0 Loss: 1.6828 Current prediction: Lobo / Portuguese CORRECT\n",
      "39000 39.0 Loss: 0.0790 Current prediction: Mayuzumi / Japanese CORRECT\n",
      "40000 40.0 Loss: 0.4850 Current prediction: Agdarov / Russian CORRECT\n",
      "41000 41.0 Loss: 0.8195 Current prediction: Lopez / Spanish CORRECT\n",
      "42000 42.0 Loss: 0.0230 Current prediction: Nakazawa / Japanese CORRECT\n",
      "43000 43.0 Loss: 0.7545 Current prediction: To / Vietnamese CORRECT\n",
      "44000 44.0 Loss: 3.0494 Current prediction: Maceachthighearna / Czech WRONG (Irish)\n",
      "45000 45.0 Loss: 1.8234 Current prediction: Vieth / Dutch WRONG (German)\n",
      "46000 46.0 Loss: 1.4939 Current prediction: Richard / French CORRECT\n",
      "47000 47.0 Loss: 2.2086 Current prediction: Schneider / German WRONG (Dutch)\n",
      "48000 48.0 Loss: 2.1892 Current prediction: Pelletier / Portuguese WRONG (French)\n",
      "49000 49.0 Loss: 0.1429 Current prediction: Quang / Vietnamese CORRECT\n",
      "50000 50.0 Loss: 0.3696 Current prediction: Davidson / Scottish CORRECT\n",
      "51000 51.0 Loss: 1.4053 Current prediction: Sokolof / Polish CORRECT\n",
      "52000 52.0 Loss: 1.7794 Current prediction: Johnstone / German WRONG (Scottish)\n",
      "53000 53.0 Loss: 0.1620 Current prediction: Kapsimalles / Greek CORRECT\n",
      "54000 54.0 Loss: 0.4877 Current prediction: Jung  / Korean CORRECT\n",
      "55000 55.00000000000001 Loss: 0.7013 Current prediction: Esteves / Portuguese CORRECT\n",
      "56000 56.00000000000001 Loss: 0.4816 Current prediction: Palmeiro / Portuguese CORRECT\n",
      "57000 56.99999999999999 Loss: 0.6502 Current prediction: Shammas / Arabic CORRECT\n",
      "58000 57.99999999999999 Loss: 3.3372 Current prediction: Raskob / Russian WRONG (German)\n",
      "59000 59.0 Loss: 5.7920 Current prediction: Collard / Irish WRONG (English)\n",
      "60000 60.0 Loss: 1.2642 Current prediction: Ocaskova / Czech CORRECT\n",
      "61000 61.0 Loss: 1.0141 Current prediction: Janin / Russian CORRECT\n",
      "62000 62.0 Loss: 1.3566 Current prediction: Nakadan / Arabic WRONG (Japanese)\n",
      "63000 63.0 Loss: 0.4191 Current prediction: Toyama / Japanese CORRECT\n",
      "64000 64.0 Loss: 2.1153 Current prediction: Daalen / French WRONG (Dutch)\n",
      "65000 65.0 Loss: 1.6833 Current prediction: Maruya / Portuguese WRONG (Japanese)\n",
      "66000 66.0 Loss: 0.2817 Current prediction: Tong / Vietnamese CORRECT\n",
      "67000 67.0 Loss: 1.9349 Current prediction: Han / Chinese WRONG (Vietnamese)\n",
      "68000 68.0 Loss: 2.5531 Current prediction: Neil / French WRONG (Irish)\n",
      "69000 69.0 Loss: 1.4790 Current prediction: Novak / Polish WRONG (Czech)\n",
      "70000 70.0 Loss: 3.4783 Current prediction: Roy / Korean WRONG (French)\n",
      "71000 71.0 Loss: 1.6065 Current prediction: Leroy / French CORRECT\n",
      "72000 72.0 Loss: 2.4886 Current prediction: Ricketts / Dutch WRONG (English)\n",
      "73000 73.0 Loss: 3.3876 Current prediction: Jacques / Portuguese WRONG (French)\n",
      "74000 74.0 Loss: 0.0175 Current prediction: Coghlan / Irish CORRECT\n",
      "75000 75.0 Loss: 0.4263 Current prediction: Paitakes / Greek CORRECT\n",
      "76000 76.0 Loss: 4.1425 Current prediction: Linart / French WRONG (Czech)\n",
      "77000 77.0 Loss: 0.8549 Current prediction: Kinsley / English CORRECT\n",
      "78000 78.0 Loss: 0.1015 Current prediction: Tokuda / Japanese CORRECT\n",
      "79000 79.0 Loss: 1.0206 Current prediction: Christie / Scottish CORRECT\n",
      "80000 80.0 Loss: 2.0827 Current prediction: Giolla / Spanish WRONG (Irish)\n",
      "81000 81.0 Loss: 2.3682 Current prediction: Gajos / Arabic WRONG (Polish)\n",
      "82000 82.0 Loss: 1.3743 Current prediction: Lin / Korean WRONG (Chinese)\n",
      "83000 83.0 Loss: 1.1550 Current prediction: Said / Arabic CORRECT\n",
      "84000 84.0 Loss: 3.9292 Current prediction: Fremut / French WRONG (Czech)\n",
      "85000 85.0 Loss: 0.1903 Current prediction: Thai / Vietnamese CORRECT\n",
      "86000 86.0 Loss: 1.3218 Current prediction: Zielinski / Russian WRONG (Polish)\n",
      "87000 87.0 Loss: 1.2516 Current prediction: Bruce / German WRONG (Scottish)\n",
      "88000 88.0 Loss: 1.5080 Current prediction: Handal / Scottish WRONG (Arabic)\n",
      "89000 89.0 Loss: 0.3173 Current prediction: Cucinotta / Italian CORRECT\n",
      "90000 90.0 Loss: 0.7199 Current prediction: Elworthy / English CORRECT\n",
      "91000 91.0 Loss: 1.2295 Current prediction: Cantu / Italian CORRECT\n",
      "92000 92.0 Loss: 0.2645 Current prediction: Ramaaker / Dutch CORRECT\n",
      "93000 93.0 Loss: 0.0050 Current prediction: Roosevelt / Dutch CORRECT\n",
      "94000 94.0 Loss: 2.3797 Current prediction: Muir / Chinese WRONG (Scottish)\n",
      "95000 95.0 Loss: 0.0371 Current prediction: Nakatoni / Japanese CORRECT\n",
      "96000 96.0 Loss: 0.8060 Current prediction: Leclerc / French CORRECT\n"
     ]
    },
    {
     "ename": "KeyboardInterrupt",
     "evalue": "",
     "output_type": "error",
     "traceback": [
      "\u001b[0;31m---------------------------------------------------------------------------\u001b[0m",
      "\u001b[0;31mKeyboardInterrupt\u001b[0m                         Traceback (most recent call last)",
      "\u001b[0;32m/tmp/ipykernel_21714/3980069095.py\u001b[0m in \u001b[0;36m<module>\u001b[0;34m\u001b[0m\n\u001b[1;32m      7\u001b[0m     \u001b[0mcategory\u001b[0m\u001b[0;34m,\u001b[0m \u001b[0mline\u001b[0m\u001b[0;34m,\u001b[0m \u001b[0mcategory_tensor\u001b[0m\u001b[0;34m,\u001b[0m \u001b[0mline_tensor\u001b[0m \u001b[0;34m=\u001b[0m \u001b[0mrandom_training_example\u001b[0m\u001b[0;34m(\u001b[0m\u001b[0mcategory_lines\u001b[0m\u001b[0;34m,\u001b[0m \u001b[0mall_categories\u001b[0m\u001b[0;34m)\u001b[0m\u001b[0;34m\u001b[0m\u001b[0;34m\u001b[0m\u001b[0m\n\u001b[1;32m      8\u001b[0m \u001b[0;34m\u001b[0m\u001b[0m\n\u001b[0;32m----> 9\u001b[0;31m     \u001b[0moutput\u001b[0m\u001b[0;34m,\u001b[0m \u001b[0mloss\u001b[0m \u001b[0;34m=\u001b[0m \u001b[0mtrain\u001b[0m\u001b[0;34m(\u001b[0m\u001b[0mline_tensor\u001b[0m\u001b[0;34m,\u001b[0m \u001b[0mcategory_tensor\u001b[0m\u001b[0;34m)\u001b[0m\u001b[0;34m\u001b[0m\u001b[0;34m\u001b[0m\u001b[0m\n\u001b[0m\u001b[1;32m     10\u001b[0m     \u001b[0mcurrent_loss\u001b[0m \u001b[0;34m+=\u001b[0m \u001b[0mloss\u001b[0m\u001b[0;34m\u001b[0m\u001b[0;34m\u001b[0m\u001b[0m\n\u001b[1;32m     11\u001b[0m \u001b[0;34m\u001b[0m\u001b[0m\n",
      "\u001b[0;32m/tmp/ipykernel_21714/1154674058.py\u001b[0m in \u001b[0;36mtrain\u001b[0;34m(line_tensor, category_tensor)\u001b[0m\n\u001b[1;32m      4\u001b[0m \u001b[0;34m\u001b[0m\u001b[0m\n\u001b[1;32m      5\u001b[0m     \u001b[0;32mfor\u001b[0m \u001b[0mi\u001b[0m \u001b[0;32min\u001b[0m \u001b[0mrange\u001b[0m\u001b[0;34m(\u001b[0m\u001b[0mline_tensor\u001b[0m\u001b[0;34m.\u001b[0m\u001b[0msize\u001b[0m\u001b[0;34m(\u001b[0m\u001b[0;34m)\u001b[0m\u001b[0;34m[\u001b[0m\u001b[0;36m0\u001b[0m\u001b[0;34m]\u001b[0m\u001b[0;34m)\u001b[0m\u001b[0;34m:\u001b[0m\u001b[0;34m\u001b[0m\u001b[0;34m\u001b[0m\u001b[0m\n\u001b[0;32m----> 6\u001b[0;31m         \u001b[0moutput\u001b[0m\u001b[0;34m,\u001b[0m \u001b[0mhidden\u001b[0m \u001b[0;34m=\u001b[0m \u001b[0mrnn\u001b[0m\u001b[0;34m(\u001b[0m\u001b[0mline_tensor\u001b[0m\u001b[0;34m[\u001b[0m\u001b[0mi\u001b[0m\u001b[0;34m]\u001b[0m\u001b[0;34m,\u001b[0m \u001b[0mhidden\u001b[0m\u001b[0;34m)\u001b[0m\u001b[0;34m\u001b[0m\u001b[0;34m\u001b[0m\u001b[0m\n\u001b[0m\u001b[1;32m      7\u001b[0m \u001b[0;34m\u001b[0m\u001b[0m\n\u001b[1;32m      8\u001b[0m     \u001b[0mloss\u001b[0m \u001b[0;34m=\u001b[0m \u001b[0mcriterion\u001b[0m\u001b[0;34m(\u001b[0m\u001b[0moutput\u001b[0m\u001b[0;34m,\u001b[0m \u001b[0mcategory_tensor\u001b[0m\u001b[0;34m)\u001b[0m\u001b[0;34m\u001b[0m\u001b[0;34m\u001b[0m\u001b[0m\n",
      "\u001b[0;32m~/.cache/pypoetry/virtualenvs/pytorch-train--hkbHhPz-py3.7/lib/python3.7/site-packages/torch/nn/modules/module.py\u001b[0m in \u001b[0;36m_call_impl\u001b[0;34m(self, *input, **kwargs)\u001b[0m\n\u001b[1;32m   1100\u001b[0m         if not (self._backward_hooks or self._forward_hooks or self._forward_pre_hooks or _global_backward_hooks\n\u001b[1;32m   1101\u001b[0m                 or _global_forward_hooks or _global_forward_pre_hooks):\n\u001b[0;32m-> 1102\u001b[0;31m             \u001b[0;32mreturn\u001b[0m \u001b[0mforward_call\u001b[0m\u001b[0;34m(\u001b[0m\u001b[0;34m*\u001b[0m\u001b[0minput\u001b[0m\u001b[0;34m,\u001b[0m \u001b[0;34m**\u001b[0m\u001b[0mkwargs\u001b[0m\u001b[0;34m)\u001b[0m\u001b[0;34m\u001b[0m\u001b[0;34m\u001b[0m\u001b[0m\n\u001b[0m\u001b[1;32m   1103\u001b[0m         \u001b[0;31m# Do not call functions when jit is used\u001b[0m\u001b[0;34m\u001b[0m\u001b[0;34m\u001b[0m\u001b[0;34m\u001b[0m\u001b[0m\n\u001b[1;32m   1104\u001b[0m         \u001b[0mfull_backward_hooks\u001b[0m\u001b[0;34m,\u001b[0m \u001b[0mnon_full_backward_hooks\u001b[0m \u001b[0;34m=\u001b[0m \u001b[0;34m[\u001b[0m\u001b[0;34m]\u001b[0m\u001b[0;34m,\u001b[0m \u001b[0;34m[\u001b[0m\u001b[0;34m]\u001b[0m\u001b[0;34m\u001b[0m\u001b[0;34m\u001b[0m\u001b[0m\n",
      "\u001b[0;32m/tmp/ipykernel_21714/2945133995.py\u001b[0m in \u001b[0;36mforward\u001b[0;34m(self, input, hidden)\u001b[0m\n\u001b[1;32m     10\u001b[0m \u001b[0;34m\u001b[0m\u001b[0m\n\u001b[1;32m     11\u001b[0m     \u001b[0;32mdef\u001b[0m \u001b[0mforward\u001b[0m\u001b[0;34m(\u001b[0m\u001b[0mself\u001b[0m\u001b[0;34m,\u001b[0m \u001b[0minput\u001b[0m\u001b[0;34m,\u001b[0m \u001b[0mhidden\u001b[0m\u001b[0;34m)\u001b[0m\u001b[0;34m:\u001b[0m\u001b[0;34m\u001b[0m\u001b[0;34m\u001b[0m\u001b[0m\n\u001b[0;32m---> 12\u001b[0;31m         \u001b[0mcombined\u001b[0m \u001b[0;34m=\u001b[0m \u001b[0mtorch\u001b[0m\u001b[0;34m.\u001b[0m\u001b[0mcat\u001b[0m\u001b[0;34m(\u001b[0m\u001b[0;34m(\u001b[0m\u001b[0minput\u001b[0m\u001b[0;34m,\u001b[0m \u001b[0mhidden\u001b[0m\u001b[0;34m)\u001b[0m\u001b[0;34m,\u001b[0m \u001b[0mdim\u001b[0m\u001b[0;34m=\u001b[0m\u001b[0;36m1\u001b[0m\u001b[0;34m)\u001b[0m\u001b[0;34m\u001b[0m\u001b[0;34m\u001b[0m\u001b[0m\n\u001b[0m\u001b[1;32m     13\u001b[0m         \u001b[0mhidden\u001b[0m \u001b[0;34m=\u001b[0m \u001b[0mself\u001b[0m\u001b[0;34m.\u001b[0m\u001b[0mcombined_to_hidden\u001b[0m\u001b[0;34m(\u001b[0m\u001b[0mcombined\u001b[0m\u001b[0;34m)\u001b[0m\u001b[0;34m\u001b[0m\u001b[0;34m\u001b[0m\u001b[0m\n\u001b[1;32m     14\u001b[0m         \u001b[0moutput\u001b[0m \u001b[0;34m=\u001b[0m \u001b[0mself\u001b[0m\u001b[0;34m.\u001b[0m\u001b[0mcombined_to_output\u001b[0m\u001b[0;34m(\u001b[0m\u001b[0mcombined\u001b[0m\u001b[0;34m)\u001b[0m\u001b[0;34m\u001b[0m\u001b[0;34m\u001b[0m\u001b[0m\n",
      "\u001b[0;31mKeyboardInterrupt\u001b[0m: "
     ]
    }
   ],
   "source": [
    "current_loss = 0\n",
    "all_losses = []\n",
    "plot_steps, print_steps = 1000, 1000\n",
    "n_iters = 100000\n",
    "\n",
    "for i in range(n_iters):\n",
    "    category, line, category_tensor, line_tensor = random_training_example(category_lines, all_categories)\n",
    "    \n",
    "    output, loss = train(line_tensor, category_tensor)\n",
    "    current_loss += loss \n",
    "    \n",
    "    if (i+1) % plot_steps == 0:\n",
    "        all_losses.append(current_loss / plot_steps)\n",
    "        current_loss = 0\n",
    "        \n",
    "    if (i+1) % print_steps == 0:\n",
    "        guess = category_from_output(output)\n",
    "        correct = \"CORRECT\" if guess == category else f\"WRONG ({category})\"\n",
    "        print(f\"{i+1} {(i+1)/n_iters*100} Loss: {loss:.4f} Current prediction: {line} / {guess} {correct}\")\n",
    "\n"
   ]
  },
  {
   "cell_type": "code",
   "execution_count": 11,
   "metadata": {},
   "outputs": [
    {
     "data": {
      "image/png": "[encoded data removed]",
      "text/plain": [
       "<Figure size 432x288 with 1 Axes>"
      ]
     },
     "metadata": {
      "needs_background": "light"
     },
     "output_type": "display_data"
    }
   ],
   "source": [
    "plt.figure()\n",
    "plt.plot(all_losses)\n",
    "plt.ylabel('Loss')\n",
    "plt.show()"
   ]
  },
  {
   "cell_type": "markdown",
   "metadata": {},
   "source": [
    "## Test the trained model"
   ]
  },
  {
   "cell_type": "code",
   "execution_count": 12,
   "metadata": {},
   "outputs": [],
   "source": [
    "def predict(input_line):\n",
    "    print(f\"\\n> {input_line}\")\n",
    "    with torch.no_grad():\n",
    "        line_tensor = line_to_tensor(input_line)\n",
    "        \n",
    "        hidden = rnn.init_hidden()\n",
    "    \n",
    "        for i in range(line_tensor.size()[0]):\n",
    "            output, hidden = rnn(line_tensor[i], hidden)\n",
    "        \n",
    "        prediction = category_from_output(output)\n",
    "        print(prediction)"
   ]
  },
  {
   "cell_type": "code",
   "execution_count": 16,
   "metadata": {},
   "outputs": [
    {
     "name": "stdout",
     "output_type": "stream",
     "text": [
      "\n",
      "> Mao\n",
      "Chinese\n"
     ]
    }
   ],
   "source": [
    "predict('Mao')"
   ]
  },
  {
   "cell_type": "code",
   "execution_count": null,
   "metadata": {},
   "outputs": [],
   "source": []
  }
 ],
 "metadata": {
  "interpreter": {
   "hash": "11f370ec765c8da7f391d80d2c2a4b64c9f90ad987fa4753adc8ebf7b568460e"
  },
  "kernelspec": {
   "display_name": "Python 3.7.4 ('pytorch-train--hkbHhPz-py3.7')",
   "language": "python",
   "name": "python3"
  },
  "language_info": {
   "codemirror_mode": {
    "name": "ipython",
    "version": 3
   },
   "file_extension": ".py",
   "mimetype": "text/x-python",
   "name": "python",
   "nbconvert_exporter": "python",
   "pygments_lexer": "ipython3",
   "version": "3.7.4"
  },
  "orig_nbformat": 4
 },
 "nbformat": 4,
 "nbformat_minor": 2
}
