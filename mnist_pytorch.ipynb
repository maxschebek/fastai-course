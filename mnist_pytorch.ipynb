{
 "cells": [
  {
   "cell_type": "markdown",
   "metadata": {},
   "source": [
    "# Convolutional net with PyTorch for MNIST classification. \n",
    "## Inspired by  yunjey/pytorch-tutorial"
   ]
  },
  {
   "cell_type": "code",
   "execution_count": 40,
   "metadata": {},
   "outputs": [
    {
     "name": "stdout",
     "output_type": "stream",
     "text": [
      "cpu\n"
     ]
    }
   ],
   "source": [
    "import torch \n",
    "import torch.nn as nn\n",
    "import torchvision\n",
    "import torchvision.transforms as transforms\n",
    "\n",
    "\n",
    "# Configure device\n",
    "device = torch.device('cuda:0' if torch.cuda.is_available() else 'cpu')\n",
    "print(device)\n",
    "\n"
   ]
  },
  {
   "cell_type": "code",
   "execution_count": 41,
   "metadata": {},
   "outputs": [],
   "source": [
    "# Load MNIST \n",
    "train_dataset = torchvision.datasets.MNIST(root='../../data/',\n",
    "                                           train=True, \n",
    "                                           transform=transforms.ToTensor(),\n",
    "                                           download=True)\n",
    "\n",
    "test_dataset = torchvision.datasets.MNIST(root='../../data/',\n",
    "                                          train=False, \n",
    "                                          transform=transforms.ToTensor())"
   ]
  },
  {
   "cell_type": "code",
   "execution_count": 42,
   "metadata": {},
   "outputs": [],
   "source": [
    "def build_dataloaders(train_dataset, test_dataset, batch_size):\n",
    "    train_loader  = torch.utils.data.DataLoader(dataset=train_dataset,\n",
    "                                           batch_size=batch_size, \n",
    "                                           shuffle=True)\n",
    "\n",
    "    test_loader = torch.utils.data.DataLoader(dataset=test_dataset,\n",
    "                                          batch_size=batch_size, \n",
    "                                          shuffle=False)\n",
    "    return train_loader, test_loader"
   ]
  },
  {
   "cell_type": "markdown",
   "metadata": {},
   "source": [
    "## Model class"
   ]
  },
  {
   "cell_type": "code",
   "execution_count": 43,
   "metadata": {},
   "outputs": [],
   "source": [
    "\n",
    "import torch.nn as nn\n",
    "\n",
    "# Convolutional net with 2 layers\n",
    "class ConvNet(nn.Module):\n",
    "    def __init__(self, n_classes):\n",
    "        super(ConvNet, self).__init__()\n",
    "        self.layer1 = nn.Sequential(\n",
    "            nn.Conv2d(1, 16, kernel_size=5, stride=1, padding=2),\n",
    "            nn.BatchNorm2d(16),\n",
    "            nn.ReLU(),\n",
    "            nn.MaxPool2d(kernel_size=2, stride=2))\n",
    "        self.layer2 = nn.Sequential(\n",
    "            nn.Conv2d(16, 32, kernel_size=5, stride=1, padding=2),\n",
    "            nn.BatchNorm2d(32),\n",
    "            nn.ReLU(),\n",
    "            nn.MaxPool2d(kernel_size=2, stride=2))\n",
    "        self.fc = nn.Linear(7*7*32, n_classes)\n",
    "        \n",
    "    def forward(self, x):\n",
    "        out = self.layer1(x)\n",
    "        out = self.layer2(out)\n",
    "        out = out.reshape(out.size(0), -1)\n",
    "        out = self.fc(out)\n",
    "        return out\n",
    "    \n",
    "    def train_model(self, train_loader, n_epochs):\n",
    "        n_steps = len(train_loader)\n",
    "        for epoch in range(n_epochs):\n",
    "            for i, (images, labels) in enumerate(train_loader):\n",
    "                images = images.to(device)\n",
    "                labels = labels.to(device)\n",
    "                \n",
    "                # Forward pass\n",
    "                outputs = self(images)\n",
    "                loss = loss_func(outputs, labels)\n",
    "                \n",
    "                # Propagate backward and optimize\n",
    "                optimizer.zero_grad()\n",
    "                loss.backward()\n",
    "                optimizer.step()\n",
    "                \n",
    "                if (i+1) % 100 == 0:\n",
    "                    print ('Epoch [{}/{}], Step [{}/{}], Loss: {:.4f}' \n",
    "                        .format(epoch+1, n_epochs, i+1, n_steps, loss.item()))\n",
    "    \n",
    "    def test_model(self, test_loader):\n",
    "        self.eval() \n",
    "        with torch.no_grad():\n",
    "            correct = 0\n",
    "            total = 0\n",
    "            for images, labels in test_loader:\n",
    "                images = images.to(device)\n",
    "                labels = labels.to(device)\n",
    "                outputs = self(images)\n",
    "                _, predicted = torch.max(outputs.data, 1)\n",
    "                total += labels.size(0)\n",
    "                correct += (predicted == labels).sum().item()\n",
    "\n",
    "            print('Test Accuracy of the model on the 10000 test images: {} %'.format(100 * correct / total))"
   ]
  },
  {
   "cell_type": "markdown",
   "metadata": {},
   "source": [
    "## Train and test"
   ]
  },
  {
   "cell_type": "code",
   "execution_count": 44,
   "metadata": {},
   "outputs": [],
   "source": [
    "# Define hyper parameters\n",
    "n_epochs = 5\n",
    "n_classes = 10\n",
    "batch_size = 100\n",
    "learning_rate = 0.001"
   ]
  },
  {
   "cell_type": "code",
   "execution_count": 45,
   "metadata": {},
   "outputs": [],
   "source": [
    "train_loader, test_loader = build_dataloaders(train_dataset, test_dataset, \n",
    "                                              batch_size)"
   ]
  },
  {
   "cell_type": "code",
   "execution_count": 46,
   "metadata": {},
   "outputs": [],
   "source": [
    "\n",
    "# Define model\n",
    "model = ConvNet(n_classes).to(device)\n",
    "loss_func = nn.CrossEntropyLoss()\n",
    "optimizer = torch.optim.Adam(model.parameters(), lr=learning_rate)"
   ]
  },
  {
   "cell_type": "code",
   "execution_count": 47,
   "metadata": {},
   "outputs": [
    {
     "name": "stdout",
     "output_type": "stream",
     "text": [
      "Epoch [1/5], Step [100/600], Loss: 0.0956\n",
      "Epoch [1/5], Step [200/600], Loss: 0.1065\n",
      "Epoch [1/5], Step [300/600], Loss: 0.0443\n",
      "Epoch [1/5], Step [400/600], Loss: 0.1244\n",
      "Epoch [1/5], Step [500/600], Loss: 0.0394\n",
      "Epoch [1/5], Step [600/600], Loss: 0.0903\n",
      "Epoch [2/5], Step [100/600], Loss: 0.0396\n",
      "Epoch [2/5], Step [200/600], Loss: 0.0107\n",
      "Epoch [2/5], Step [300/600], Loss: 0.0147\n",
      "Epoch [2/5], Step [400/600], Loss: 0.1593\n",
      "Epoch [2/5], Step [500/600], Loss: 0.0145\n",
      "Epoch [2/5], Step [600/600], Loss: 0.0419\n",
      "Epoch [3/5], Step [100/600], Loss: 0.0159\n",
      "Epoch [3/5], Step [200/600], Loss: 0.0182\n",
      "Epoch [3/5], Step [300/600], Loss: 0.0423\n",
      "Epoch [3/5], Step [400/600], Loss: 0.0661\n",
      "Epoch [3/5], Step [500/600], Loss: 0.0780\n",
      "Epoch [3/5], Step [600/600], Loss: 0.0879\n",
      "Epoch [4/5], Step [100/600], Loss: 0.0144\n",
      "Epoch [4/5], Step [200/600], Loss: 0.0623\n",
      "Epoch [4/5], Step [300/600], Loss: 0.0182\n",
      "Epoch [4/5], Step [400/600], Loss: 0.0332\n",
      "Epoch [4/5], Step [500/600], Loss: 0.0109\n",
      "Epoch [4/5], Step [600/600], Loss: 0.0046\n",
      "Epoch [5/5], Step [100/600], Loss: 0.0069\n",
      "Epoch [5/5], Step [200/600], Loss: 0.0089\n",
      "Epoch [5/5], Step [300/600], Loss: 0.0117\n",
      "Epoch [5/5], Step [400/600], Loss: 0.0026\n",
      "Epoch [5/5], Step [500/600], Loss: 0.0924\n",
      "Epoch [5/5], Step [600/600], Loss: 0.0040\n"
     ]
    }
   ],
   "source": [
    "model.train_model(train_loader, n_epochs)"
   ]
  },
  {
   "cell_type": "code",
   "execution_count": 48,
   "metadata": {},
   "outputs": [
    {
     "name": "stdout",
     "output_type": "stream",
     "text": [
      "Test Accuracy of the model on the 10000 test images: 99.06 %\n"
     ]
    }
   ],
   "source": [
    "\n",
    "# Testing\n",
    "model.test_model(test_loader)\n",
    "\n"
   ]
  },
  {
   "cell_type": "code",
   "execution_count": null,
   "metadata": {},
   "outputs": [],
   "source": []
  }
 ],
 "metadata": {
  "interpreter": {
   "hash": "31f2aee4e71d21fbe5cf8b01ff0e069b9275f58929596ceb00d14d90e3e16cd6"
  },
  "kernelspec": {
   "display_name": "Python 3.7.3 64-bit",
   "language": "python",
   "name": "python3"
  },
  "language_info": {
   "codemirror_mode": {
    "name": "ipython",
    "version": 3
   },
   "file_extension": ".py",
   "mimetype": "text/x-python",
   "name": "python",
   "nbconvert_exporter": "python",
   "pygments_lexer": "ipython3",
   "version": "3.7.4"
  },
  "orig_nbformat": 4
 },
 "nbformat": 4,
 "nbformat_minor": 2
}
